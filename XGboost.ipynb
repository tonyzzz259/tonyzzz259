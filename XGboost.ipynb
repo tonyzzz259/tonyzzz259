{
  "nbformat": 4,
  "nbformat_minor": 0,
  "metadata": {
    "colab": {
      "provenance": []
    },
    "kernelspec": {
      "name": "python3",
      "display_name": "Python 3"
    },
    "language_info": {
      "name": "python"
    }
  },
  "cells": [
    {
      "cell_type": "code",
      "execution_count": null,
      "metadata": {
        "id": "NgPg89KeBKTO"
      },
      "outputs": [],
      "source": [
        "import pandas as pd\n",
        "import xgboost as xgb\n",
        "\n",
        "# ======================\n",
        "# 1. 数据加载（修改文件路径）\n",
        "# ======================\n",
        "train_df = pd.read_csv(\"/kaggle/input/houkong-moai/customer_churn.csv\")  # 训练集\n",
        "test_df = pd.read_csv(\"/kaggle/input/houkong-moai/customer_churn.csv\")    # 测试集\n",
        "\n",
        "# ======================\n",
        "# 2. 列配置（根据实际数据修改！）\n",
        "# ======================\n",
        "TARGET_COL = \"churn\"           # 目标列名（必须是二分类0/1）\n",
        "ID_COL = \"customer_id\"         # 测试集ID列名\n",
        "DROP_COLS = [\"gender\", \"date\"] # 要删除的无用列\n",
        "FEATURE_COLS = [               # 使用的特征列\n",
        "    \"age\",\n",
        "    \"monthly_bill\",\n",
        "    \"total_usage\",\n",
        "    \"service_calls\"\n",
        "]\n",
        "\n",
        "# ======================\n",
        "# 3. 数据预处理（自动容错）\n",
        "# ======================\n",
        "# 训练集处理\n",
        "X_train = train_df[[col for col in FEATURE_COLS if col in train_df.columns]]\n",
        "y_train = train_df[TARGET_COL].astype(int)  # 强制转换为整数\n",
        "\n",
        "# 测试集处理\n",
        "test_ids = test_df[ID_COL]\n",
        "X_test = test_df[X_train.columns]  # 保持与训练集相同特征\n",
        "\n",
        "# 删除无用列（安全删除）\n",
        "for df in [X_train, X_test]:\n",
        "    df.drop(columns=[col for col in DROP_COLS if col in df.columns], inplace=True)\n",
        "\n",
        "# ======================\n",
        "# 4. 训练XGBoost分类器\n",
        "# ======================\n",
        "model = xgb.XGBClassifier(\n",
        "    objective=\"binary:logistic\",  # 二分类任务\n",
        "    n_estimators=150,             # 树的数量\n",
        "    max_depth=4,                  # 树的最大深度\n",
        "    learning_rate=0.1,            # 学习率\n",
        "    subsample=0.8,                # 防止过拟合\n",
        "    random_state=42               # 随机种子\n",
        ")\n",
        "model.fit(X_train, y_train)\n",
        "\n",
        "# ======================\n",
        "# 5. 预测并保存0/1结果\n",
        "# ======================\n",
        "pd.DataFrame({\n",
        "    ID_COL: test_ids,\n",
        "    f\"pred_{TARGET_COL}\": model.predict(X_test)  # 直接输出0/1分类\n",
        "}).to_csv(\"xgb_submission.csv\", index=False)\n",
        "\n",
        "# ======================\n",
        "# 6. 打印运行摘要\n",
        "# ======================\n",
        "print(\"=\"*50)\n",
        "print(f\"XGBoost分类结果已保存至 xgb_submission.csv\")\n",
        "print(f\"使用的特征: {list(X_train.columns)}\")\n",
        "print(f\"样本数量: 训练集={len(X_train)}, 测试集={len(X_test)}\")\n",
        "print(\"=\"*50)\n"
      ]
    }
  ]
}