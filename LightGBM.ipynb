{
  "nbformat": 4,
  "nbformat_minor": 0,
  "metadata": {
    "colab": {
      "provenance": []
    },
    "kernelspec": {
      "name": "python3",
      "display_name": "Python 3"
    },
    "language_info": {
      "name": "python"
    }
  },
  "cells": [
    {
      "cell_type": "code",
      "execution_count": null,
      "metadata": {
        "id": "NgPg89KeBKTO"
      },
      "outputs": [],
      "source": [
        "import pandas as pd\n",
        "import lightgbm as lgb\n",
        "\n",
        "# 1. 加载数据\n",
        "train_df = pd.read_csv(\"/kaggle/input/houkong-moai/customer_churn.csv\")\n",
        "test_df = pd.read_csv(\"/kaggle/input/houkong-moai/customer_churn.csv\")\n",
        "\n",
        "# 2. 指定列\n",
        "TARGET_COL = \"churn\"          # 目标列名（需是0/1格式）\n",
        "ID_COL = \"customer_id\"       # 测试集ID列名\n",
        "FEATURE_COLS = [\"age\", \"monthly_bill\"]  # 特征列\n",
        "\n",
        "# 3. 数据预处理\n",
        "X_train = train_df[FEATURE_COLS]\n",
        "y_train = train_df[TARGET_COL].astype(int)  # 确保目标列为整数\n",
        "X_test = test_df[FEATURE_COLS]\n",
        "test_ids = test_df[ID_COL]\n",
        "\n",
        "# 4. 训练模型\n",
        "model = lgb.LGBMClassifier(objective='binary', random_state=42)\n",
        "model.fit(X_train, y_train)\n",
        "\n",
        "# 5. 输出0/1预测\n",
        "pd.DataFrame({\n",
        "    ID_COL: test_ids,\n",
        "    f\"pred_{TARGET_COL}\": model.predict(X_test)  # 直接输出分类\n",
        "}).to_csv(\"lgb_submission.csv\", index=False)\n",
        "\n",
        "print(\"生成0/1分类结果文件: lgb_submission.csv\")\n"
      ]
    }
  ]
}